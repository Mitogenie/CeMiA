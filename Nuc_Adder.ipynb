{
 "cells": [
  {
   "cell_type": "markdown",
   "metadata": {},
   "source": [
    "<h1 style=\"text-align:center;\">Nuc Adder <span style=\"text-align:center;font-size: 0.5em;\">1.5.1</span></h1>\n",
    "<h2 style=\"text-align:center;\">Mito Hacker Toolkit <i style=\"font-size: 0.5em;\">0.7.1</i></h2>\n",
    "<h3 style=\"text-align:center;\">Kashatus Lab @ UVA</h3>"
   ]
  },
  {
   "cell_type": "markdown",
   "metadata": {},
   "source": [
    "# Welcome to Nuc Adder\n",
    "#### Nuc Adder is part of Mito Hacker toolkit that enables you to make images that are missing nuclei staining compatible with CeMiA Cell Catcher and Mito Miner.\n",
    "This Jupyter notebook provides you with step-by-step directions to transform your images."
   ]
  },
  {
   "cell_type": "markdown",
   "metadata": {},
   "source": [
    "## 1) Importing necessary libraries\n",
    "Please check the requirements in the Readme file."
   ]
  },
  {
   "cell_type": "code",
   "execution_count": null,
   "metadata": {},
   "outputs": [],
   "source": [
    "#Base\n",
    "import os\n",
    "import cv2\n",
    "import numpy as np\n",
    "from copy import deepcopy\n",
    "import matplotlib.pyplot as plt\n",
    "import random\n",
    "\n",
    "#Interaction\n",
    "import ipywidgets as widgets\n",
    "from IPython.display import display\n",
    "from ipywidgets import interact, interactive, fixed, interact_manual, IntSlider, Checkbox, FloatSlider, Dropdown\n",
    "from IPython.display import clear_output\n",
    "\n",
    "#Core Functions\n",
    "import cemia55s as cemia\n",
    "\n",
    "layout = widgets.Layout(width='800px')"
   ]
  },
  {
   "cell_type": "markdown",
   "metadata": {},
   "source": [
    "## 2) Locate and Sample Files\n",
    "\n",
    "<br>\n",
    "<details>\n",
    "<summary><span style=\"font-size:16px;font-weight: bold; color:red\">Instructions</span></summary>\n",
    "\n",
    "\n",
    "#### <span style=\"color:red;\">Interact with the code: </span> Please enter the relative address of the folder that contains your images. \n",
    "\n",
    "#### <span style=\"color:red;\">You should interact with the next cell: </span> Please run the next cell, a box will appear. Enter the relative/absolute address of the folder that contains your images inside the box, then press enter. \n",
    "\n",
    "\n",
    "#### <span style=\"color:red;\">Examples: </span>\n",
    "* Use . if the images are in the same folder as this file\n",
    "* If the folder of the images is named \"test\" and is located on the upper level of the current folder, the address would be ../test (Mac)\n",
    "\n",
    "#### <span style=\"color:red;\">Note: </span>\n",
    "* It is preferred to have the folder of your images in the same folder as the current file that you are running\n",
    "* After you enetered the address to your files in the box, you should press enter key.\n",
    "\n",
    "</details>"
   ]
  },
  {
   "cell_type": "code",
   "execution_count": null,
   "metadata": {
    "scrolled": true
   },
   "outputs": [],
   "source": [
    "address,file_list = cemia.address()"
   ]
  },
  {
   "cell_type": "code",
   "execution_count": null,
   "metadata": {},
   "outputs": [],
   "source": [
    "cleaned_list = cemia.random_files(address,file_list,len(file_list))"
   ]
  },
  {
   "cell_type": "code",
   "execution_count": null,
   "metadata": {},
   "outputs": [],
   "source": [
    "cemia.nuc_adder_make_folders(address)"
   ]
  },
  {
   "cell_type": "markdown",
   "metadata": {},
   "source": [
    "## 3) Adjusting The Nuclei Size\n",
    "\n",
    "#### Cell Catcher and Mito Miner need nuclei boundary to assess the out-of-plane signal (Background Intensity).  Apparently, nuclei staining is missing from your images, and that's why you are here!\n",
    "\n",
    "#### First things first! Let's  find a proper nuclei size for your set of images.\n",
    "<br>\n",
    "<details>\n",
    "<summary><span style=\"font-size:16px;font-weight: bold; color:red\">Instructions</span></summary>\n",
    "\n",
    "\n",
    "#### <span style=\"color:red;\">Interaction Required: </span>\n",
    "* Identify a proper nuclei size (as if the nuclei were stained in your images) for your set of images by adjusting the handle.\n",
    "* You can move the simulated nucleus on the image. to ensure proper sizing. (The location has no effect of future analysis, and is for visualization purposes only.\n",
    "\n",
    "#### <span style=\"color:red;\">Note: </span>\n",
    "* We suggest to be a bit conservative with your size choice. Large nuclei sizes, may cause overlap with the actual mitochondrial network, and result in inaccurate background estimations.\n",
    "* The circle size should be large enough to sample enough background pixels, and small enough to not have an overlap with mitochondrial network accross different cells\n",
    "\n",
    "</details>"
   ]
  },
  {
   "cell_type": "code",
   "execution_count": null,
   "metadata": {
    "scrolled": false
   },
   "outputs": [],
   "source": [
    "size = plt.imread(os.path.join(address,cleaned_list[0])).shape\n",
    "radii = []\n",
    "\n",
    "@interact(file=cleaned_list, radius=IntSlider(min=25,max=100,step=5,value=10,continuous_update=False,layout=layout),\n",
    "         x=IntSlider(min=100,max=size[0]-100,step=10,value=150,continuous_update=False,layout=layout),\n",
    "         y=IntSlider(min=100,max=size[0]-100,step=10,value=150,continuous_update=False,layout=layout),\n",
    "         filled=Checkbox(value=True,description='Filled',layout = layout),)\n",
    "          \n",
    "def segment_nucleus(file, radius, x,y, filled):\n",
    "    \n",
    "    rad = cemia.simulate_circle(address, file, x,y,radius,filled)\n",
    "    radii.append(rad)"
   ]
  },
  {
   "cell_type": "markdown",
   "metadata": {},
   "source": [
    "## 4) Marking nuclei centers in your images\n",
    "\n",
    "<br>\n",
    "<details>\n",
    "<summary><span style=\"font-size:16px;font-weight: bold; color:red\">Instructions & Notes</span></summary>\n",
    "\n",
    "\n",
    "### <span style=\"color:red;\"><b>Interaction with an external window is required.</b> </span> \n",
    "#### 1) In this section, all the images in your target folder, will be displayed one-by-one.\n",
    "#### 2) Once an image is displayed, an external window with the same image will open up.\n",
    "#### 3) <span style=\"color:red;\">Important: </span>On the external window, for each cell on the image, you have to <span style=\"color:red;\">single click </span> (left click) on the point where you believe would be the center of the nucleus in that cell. Repeat this process for all the cells on the image.\n",
    "#### 4) After you marked all the desired cell centers on the image, press \"q\" on the keyboard to go to the next image.\n",
    "#### 5) Repeat this process for all the images in your target folder.\n",
    "#### 6) Transformed images are saved in a sub directory names \"transformed\" in your target folder.\n",
    "\n",
    "#### <span style=\"color:red;\">Note: </span>\n",
    "* Mac Users, may experince that the external window for the last image won't close properly after pressing \"q\". This is not an issue. After you press \"q\" for the last image, on the Jupyter notebook you will see the message \"You are all set!\", which indicates you are all set!\n",
    "* Windows users will not experince this issue.\n",
    "\n",
    "</details>"
   ]
  },
  {
   "cell_type": "code",
   "execution_count": null,
   "metadata": {
    "scrolled": false
   },
   "outputs": [],
   "source": [
    "roi_array = []\n",
    "\n",
    "for image in cleaned_list:\n",
    "    image_address = os.path.join(address,image)\n",
    "    \n",
    "    img1 = plt.imread(image_address,-1)\n",
    "    img = deepcopy(img1)\n",
    "    plt.figure(figsize=(10,10))\n",
    "    plt.imshow(img1)\n",
    "    plt.show()\n",
    "    how_many = 1#cemia.how_many_cells()\n",
    "    \n",
    "    for i in range(how_many):\n",
    "        drawing=False # true if mouse is pressed\n",
    "        mode=True # if True, draw rectangle. Press 'm' to toggle to curve\n",
    "        points = []\n",
    "        roi_corners = []\n",
    "        # mouse callback function\n",
    "        def boundary(event,former_x,former_y,flags,param):\n",
    "            global current_former_x,current_former_y,drawing, mode\n",
    "\n",
    "            if event==cv2.EVENT_LBUTTONDOWN:\n",
    "                drawing=True\n",
    "                current_former_x,current_former_y=former_x,former_y\n",
    "                points.append((current_former_x,current_former_y))\n",
    "            elif event==cv2.EVENT_MOUSEMOVE:\n",
    "                if drawing==True:\n",
    "                    if mode==True:\n",
    "                        cv2.line(img,(current_former_x,current_former_y),(former_x,former_y),(0,0,255),3)\n",
    "                        current_former_x = former_x\n",
    "                        current_former_y = former_y\n",
    "                        points.append((current_former_x,current_former_y))\n",
    "\n",
    "                        #print former_x,former_y\n",
    "            elif event==cv2.EVENT_LBUTTONUP:\n",
    "                drawing=False\n",
    "                if mode==True:\n",
    "                    cv2.line(img,(current_former_x,current_former_y),(former_x,former_y),(0,0,255),3)\n",
    "                    current_former_x = former_x\n",
    "                    current_former_y = former_y\n",
    "                    points.append((current_former_x,current_former_y))\n",
    "\n",
    "            return former_x,former_y, points \n",
    "\n",
    "        cv2.namedWindow(\"Kashatus Lab\",cv2.WINDOW_NORMAL)\n",
    "        cv2.resizeWindow(\"Kashatus Lab\",img.shape[0]//2,img.shape[1]//2)\n",
    "        cv2.setMouseCallback('Kashatus Lab',boundary)\n",
    "        while(1):\n",
    "            cv2.imshow('Kashatus Lab',cv2.cvtColor(img, cv2.COLOR_BGR2RGB))\n",
    "            if cv2.waitKey(1) & 0xFF == ord('q'):\n",
    "                roi_corners = np.array(points, dtype=np.int32);\n",
    "                roi_array.append(roi_corners)\n",
    "                break\n",
    "\n",
    "        cv2.waitKey(1)\n",
    "        cv2.destroyAllWindows()\n",
    "        cv2.waitKey(1)\n",
    "        img_temp = deepcopy(img)\n",
    "        print(img.shape)\n",
    "        for x,y in points:\n",
    "            cv2.circle(img_temp, (x,y), radii[-1], color=(0,0,255), thickness=-1, lineType=8, shift=0)\n",
    "    img[:,:,2] = img_temp[:,:,2]\n",
    "#     plt.figure()\n",
    "#     plt.imshow(img[:,:,0])\n",
    "\n",
    "    trans_file_name = image[:image.rfind('.')] + '_transformed' + image[image.rfind('.'):]\n",
    "    output_address = os.path.join(address,'transformed', trans_file_name)\n",
    "    cv2.imwrite(output_address,cv2.cvtColor(img, cv2.COLOR_RGB2BGR))\n",
    "\n",
    "print('\\nYou are all set!')\n",
    "print(f'\\nYour transformed images are saved at: \"{address}/transformed/\" and are eady to to be used by other tools at CeMiA.')"
   ]
  },
  {
   "cell_type": "markdown",
   "metadata": {},
   "source": [
    "# The End!"
   ]
  }
 ],
 "metadata": {
  "kernelspec": {
   "display_name": "Python 3",
   "language": "python",
   "name": "python3"
  },
  "language_info": {
   "codemirror_mode": {
    "name": "ipython",
    "version": 3
   },
   "file_extension": ".py",
   "mimetype": "text/x-python",
   "name": "python",
   "nbconvert_exporter": "python",
   "pygments_lexer": "ipython3",
   "version": "3.7.4"
  }
 },
 "nbformat": 4,
 "nbformat_minor": 2
}

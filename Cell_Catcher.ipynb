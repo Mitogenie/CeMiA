{
 "cells": [
  {
   "cell_type": "markdown",
   "metadata": {},
   "source": [
    "<h1 style=\"text-align:center;\">Cell Catcher <span style=\"text-align:center;font-size: 0.5em;\">0.2.3</span></h1>\n",
    "<h2 style=\"text-align:center;\">CeMiA Toolkit <i style=\"font-size: 0.5em;\">0.6.0</i></h2>\n",
    "<h3 style=\"text-align:center;\">Kashatus Lab @ UVA</h3>"
   ]
  },
  {
   "cell_type": "markdown",
   "metadata": {},
   "source": [
    "# Welcome to Cell Catcher\n",
    "#### Cell Catcher is part of CeMiA toolkit that enables you to separate individual cells from fluorescently labeled multi-cell images.\n",
    "This Jupyter notebook provides you with step-by-step directions to separate individual cells from multi-cell images."
   ]
  },
  {
   "cell_type": "markdown",
   "metadata": {},
   "source": [
    "## 1) Importing necessary libraries\n",
    "Please check the requirements in the Readme file."
   ]
  },
  {
   "cell_type": "markdown",
   "metadata": {},
   "source": [
    "##### Just run the following block of code, you are not expected to enter any data here."
   ]
  },
  {
   "cell_type": "code",
   "execution_count": null,
   "metadata": {},
   "outputs": [],
   "source": [
    "#Base Libraries\n",
    "import os\n",
    "import matplotlib.pyplot as plt\n",
    "import numpy as np\n",
    "import pandas as pd\n",
    "from matplotlib.gridspec import GridSpec\n",
    "import cv2\n",
    "import shutil\n",
    "\n",
    "\n",
    "#Interaction\n",
    "import ipywidgets as widgets\n",
    "from IPython.display import display\n",
    "from ipywidgets import interact, interactive, fixed, interact_manual, IntSlider, Checkbox, FloatSlider, Dropdown\n",
    "from IPython.display import clear_output\n",
    "\n",
    "#Core Functions\n",
    "import cemia55s as cemia\n",
    "\n",
    "layout = widgets.Layout(width='800px')"
   ]
  },
  {
   "cell_type": "markdown",
   "metadata": {},
   "source": [
    "## 2) Locate and Sample Files\n",
    "\n",
    "<br>\n",
    "<details>\n",
    "<summary><span style=\"font-size:16px;font-weight: bold; color:red\">Instructions</span></summary>\n",
    "    \n",
    "#### <span style=\"color:red;\">Interact with the code: </span> Please enter the relative address of the folder that contains your images. \n",
    "\n",
    "#### <span style=\"color:red;\">Examples: </span>\n",
    "* Use . if the images are in the same folder as this file\n",
    "* If the folder of the images is named \"test\" and is located on the upper level of the current folder, the address would be ../test (Mac)\n",
    "\n",
    "#### <span style=\"color:red;\">Note: </span>\n",
    "* It is preferred to have the folder of your images in the same folder as the current file that you are running\n",
    "* You should press enter after you enetered the address in the box.\n",
    "</details>"
   ]
  },
  {
   "cell_type": "code",
   "execution_count": null,
   "metadata": {},
   "outputs": [],
   "source": [
    "address,file_list = cemia.address()"
   ]
  },
  {
   "cell_type": "markdown",
   "metadata": {},
   "source": [
    "### How many files to sample?\n",
    "\n",
    "<br>\n",
    "<details>\n",
    "<summary><span style=\"font-size:16px;font-weight: bold; color:red\">Instructions</span></summary>\n",
    "    \n",
    "\n",
    "#### You should enter the maximum number of the sample files that you want to initiallay analyze for parameter tuning purposes.\n",
    "##### Just sample a reasonable number of files to \n",
    "\n",
    "#### <span style=\"color:red;\">Note:</span>\n",
    "* The number of sampled images may be equal or lower than the number your enter. The maximum indicated number is the total number of the files in that folder, which may or may not be valid images.\n",
    "\n",
    "#### <span style=\"color:red;\">Interaction required</span>\n",
    "</details>"
   ]
  },
  {
   "cell_type": "code",
   "execution_count": null,
   "metadata": {
    "scrolled": true
   },
   "outputs": [],
   "source": [
    "how_many = cemia.how_many(file_list)"
   ]
  },
  {
   "cell_type": "markdown",
   "metadata": {},
   "source": [
    "##### Here we  randomly sample some images for parameter tuning purposes\n",
    "##### Just run the following block of code, you are not expected to enter any data here."
   ]
  },
  {
   "cell_type": "code",
   "execution_count": null,
   "metadata": {},
   "outputs": [],
   "source": [
    "random_files = cemia.random_files(address,file_list,how_many)"
   ]
  },
  {
   "cell_type": "markdown",
   "metadata": {},
   "source": [
    "## 3) Finding and isolating individual cells in the sample images\n",
    "##### Just run the following block of code, you are not expected to enter any data here."
   ]
  },
  {
   "cell_type": "code",
   "execution_count": null,
   "metadata": {
    "scrolled": false
   },
   "outputs": [],
   "source": [
    "threshold_pro = ['Assisted Automatic (Pro)']\n",
    "abspath = os.path.join(address,'temp')"
   ]
  },
  {
   "cell_type": "markdown",
   "metadata": {},
   "source": [
    "##### The next block of code is designed to help you to identify individual nuclei in the image. While in most cases the default values will do a good job, but in some cases you may find it useful to tune the values of different parameters, and find a combination that works best for your dataset.\n",
    "\n",
    "<br>\n",
    "<details>\n",
    "<summary><span style=\"font-size:16px;font-weight: bold; color:red\">List of parameters you are adjusting here</span></summary>\n",
    "\n",
    "<p><b>Correct Nucleus:</b> This feature tries to reconstruct the shape of the poorly illuminated nuclei in the image.</p>\n",
    "<p><b>Diffused Background:</b> In rare cases that your images suffer from extremely low contrast, this option may help.</p>\n",
    "<p>Make sure your settings work good on all your sample images by selecting different images from the dropdown menu.</p>\n",
    "</details>"
   ]
  },
  {
   "cell_type": "code",
   "execution_count": null,
   "metadata": {
    "scrolled": false
   },
   "outputs": [],
   "source": [
    "layout = widgets.Layout(width='800px')\n",
    "nuc_mask = []\n",
    "\n",
    "#List of Parameters\n",
    "params = cemia.catcher_initial_params\n",
    "\n",
    "@interact(file=random_files, Intensity_Threshold=IntSlider(min=0,max=100,step=1,value=10,continuous_update=False,layout=layout),\n",
    "          Size_Threshold=IntSlider(min=500,max=5000,step=250,value=1000,continuous_update=False,layout=layout),\n",
    "          correct=Checkbox(value=True,description='Correct Nucleus',layout = layout),\n",
    "          diffuse=Checkbox(value=False,description='Diffused background',layout = layout))\n",
    "\n",
    "def segment_nucleus(file,Intensity_Threshold, Size_Threshold, correct, diffuse):\n",
    "\n",
    "    fullpath_input = os.path.join(address, file)\n",
    "    abspath = os.path.join(address, 'cell_catcher')\n",
    "    \n",
    "    namestring = file[:file.rfind('.')] + '.tif'\n",
    "    \n",
    "    #Update parameters, based on user interaction\n",
    "    params['Intensity_threshold'].append(Intensity_Threshold)\n",
    "    params['Size_threshold'].append(Size_Threshold)\n",
    "    params['diffused_bg'].append(diffuse)\n",
    "    params['nuc_correction'].append(correct)\n",
    "\n",
    "    try:        \n",
    "        mask = cemia.nucleus_filtering(fullpath_input, abspath, Intensity_Threshold, Size_Threshold,True,correct, diffused=diffuse)\n",
    "        nuc_mask.append(mask)\n",
    "    except:\n",
    "        print('{} is not a valid image file, trying the next file.'.format(file))\n",
    "        pass\n",
    "\n",
    "print('You can now go to next step!')\n"
   ]
  },
  {
   "cell_type": "markdown",
   "metadata": {},
   "source": [
    "##### The next block of code is designed to help you to identify and separate individual cells in the image. While in most cases the default values will do a good job, but in some cases you may find it useful to tune the values of different parameters, and find a combination that works best for your dataset.\n",
    "\n",
    "<br>\n",
    "<details>\n",
    "<summary><span style=\"font-size:16px;font-weight: bold; color:red\">List of parameters you are adjusting here</span></summary>\n",
    "\n",
    "<p><b>Threshold:</b> The intensity threshold for mitochondria</p>\n",
    "<p><b>Neighborhood:</b> The radial distance around the nuclei to search for mitochondria. (to identify ghost cells)</p>\n",
    "<p><b>Empty Cell Threshold:</b> The minimum accepatble amount of mitochondrial content around a cell (to identify ghost cells)</p>\n",
    "<p><b>Separate Cells:</b> This item should be checked in order to separate the individual cells in the image.</p>\n",
    "\n",
    "</details>\n",
    "\n",
    "<br>\n",
    "<details>\n",
    "<summary><span style=\"font-size:16px;font-weight: bold; color:red\">Additional notes</span></summary>\n",
    "\n",
    "\n",
    "* While you are deciding on the best set of parameters for your sample images (which can individually be selected from the dropdown menu), we suggest to keep the \"Separate Cells\" unchecked. Once you are happy with your set of parameters, then activate the \"Separate Cells\" to isolate individual cells in your desired images. \n",
    "* Every time you select a new cell, while the segment cell is checked, it will automatically start to segment the cells in the image, which may take some time. Once segmentation is done, the segmented cells will show up.\n",
    "* The image titled \"Mito channel after global thresholding\" serves an important purpose, and can be extremely useful if used and interpreted peoperly.\n",
    "    * This image is a mitochondrial content mask for the image, and is not intented to reflect the final mitochondrial mapping or network in your cells (That's Mito Miner's job). By applying lower thresholds, you ensure that your mitochondrial content mask encompases all the possible mitochondira in the image. \n",
    "    * Generally lower thresholds are preferred to capture all possible mitochondria in the image. However, this is true as long as the mitochondrial masks of different cells do not overlap and/or you are not capturing too much noise as mitochondria.\n",
    "    * Larger mask means more content to distribute among cells while isolating individual cells, which in turn means more time for cell separation.\n",
    "    * Once you feel your mask reasonably captures the mitochondrial content of your image, you should not further lower the threshold, which would result in capturing excessive noise, and adversely affeting the Cell Catcher algorithm.\n",
    "        * At low thresholds, big lumps of background noise will form and will dominate the mitochondrial content on the image.\n",
    "    * Just remember, check few images (using the drop down menu above) before you decide on your threshold value, and make sure it resonably represent the mitochondrial content in all , since at the end, the same threshold will be applied to the batch of images you are analyzing together.\n",
    "\n",
    "</details>"
   ]
  },
  {
   "cell_type": "code",
   "execution_count": null,
   "metadata": {
    "scrolled": false
   },
   "outputs": [],
   "source": [
    "@interact(file=random_files, Threshold=IntSlider(min=5,max=100,step=2,value=65,continuous_update=False,layout=layout),\n",
    "          dilation=IntSlider(min=35,max=100,step=5,value=45,continuous_update=False,description='Neighborhood',layout=layout),\n",
    "          empty_cell_threshold=IntSlider(min=0,max=250000,step=2500,value=35000,continuous_update=False,description='Empty Cell Thresh',layout=layout),\n",
    "          showimg=Checkbox(value=False,description='Separate Cells',layout = layout),\n",
    "          correct=Checkbox(value=True,description='Remove Ghost Cells',layout = layout))\n",
    "\n",
    "def segment_cell(file,Threshold, dilation,empty_cell_threshold,showimg, correct):\n",
    "\n",
    "    fullpath_input = os.path.join(address, file)\n",
    "    abspath = os.path.join(address, 'cell_catcher_temp')\n",
    "    \n",
    "    namestring = file[:file.rfind('.')] + '.tif'\n",
    "    \n",
    "    #Updating parameters based on user interaction\n",
    "    params['mito_threshold'].append(Threshold)\n",
    "    params['empty_cell_thresh'].append(empty_cell_threshold)\n",
    "\n",
    "    #try:\n",
    "    mask_blue=cemia.auto_segmentation(fullpath_input, abspath, namestring,Threshold,showimg,dilation, correct, params['Intensity_threshold'][-1], params['Size_threshold'][-1],params['empty_cell_thresh'][-1], hide=False,nuc_correct=False,diffused=params['diffused_bg'][-1])\n",
    "#     except:\n",
    "#         print('{} is not a valid image file, try another file.'.format(file))\n",
    "#         pass\n",
    "\n",
    "#     try:\n",
    "#         cemia.single_cell_QC(abspath, hide=False)\n",
    "#     except:\n",
    "#         pass\n",
    "\n",
    "\n",
    "    params['correct_cells'].append(correct)\n",
    "\n",
    "#print('Done! Go to next step.')\n"
   ]
  },
  {
   "cell_type": "code",
   "execution_count": null,
   "metadata": {
    "scrolled": true
   },
   "outputs": [],
   "source": [
    "print('The following settings will be used to analyze all the images!')\n",
    "print('**************************************************************')\n",
    "params_pd = {}\n",
    "for k in params:\n",
    "    try:\n",
    "        params_pd[k] = params[k][-1]\n",
    "        print(f'{k}: {params_pd[k]}')\n",
    "    except:\n",
    "        pass\n",
    "    \n",
    "params_pd = pd.DataFrame(params_pd, index=[0])\n",
    "params_pd.to_csv(os.path.join(address ,'cell_catcher_params.csv'), index=False)\n"
   ]
  },
  {
   "cell_type": "markdown",
   "metadata": {},
   "source": [
    "## 4) Processing all the cells\n",
    "##### Just run this block of code, and then go and enjoy your time. Running this block of code may take few hours depending on the number of images that you have."
   ]
  },
  {
   "cell_type": "code",
   "execution_count": null,
   "metadata": {
    "scrolled": false
   },
   "outputs": [],
   "source": [
    "try:\n",
    "    os.makedirs(os.path.join(address, 'output'))\n",
    "except FileExistsError:\n",
    "    pass\n",
    "\n",
    "cell_list = os.listdir(address)\n",
    "\n",
    "for file in file_list:\n",
    "\n",
    "    fullpath_input = os.path.join(address, file)\n",
    "    abspath = os.path.join(address, 'output')\n",
    "    namestring = file[:file.rfind('.')] + '.tif'\n",
    "    print(file)\n",
    "\n",
    "    try:\n",
    "        cemia.auto_segmentation(fullpath_input, abspath, namestring,params['mito_threshold'][-1],True,params['neighorhood'][-1], params['correct_cells'][-1], params['Intensity_threshold'][-1], params['Size_threshold'][-1], params['empty_cell_thresh'][-1], hide=True, nuc_correct=False, diffused=params['diffused_bg'][-1])\n",
    "        cemia.single_cell_QC(abspath, hide=True)\n",
    "    except:\n",
    "        print('{} is not a valid image file, trying the next file.\\n'.format(file))\n",
    "        pass\n",
    "\n",
    "\n",
    "print('You are all set!\\n')"
   ]
  },
  {
   "cell_type": "markdown",
   "metadata": {},
   "source": [
    "## Optional Step: Remove Cell Catcher Temp folders\n",
    "#### If you want to delete the temporary folders created by Cell Catcher, please run the following cell. This is the folder that contains the cells that you isolated when you were experimenting with Cell Catcher"
   ]
  },
  {
   "cell_type": "code",
   "execution_count": null,
   "metadata": {},
   "outputs": [],
   "source": [
    "try:\n",
    "    shutil.rmtree(os.path.join(address,'cell_catcher_temp'))\n",
    "except:\n",
    "    pass"
   ]
  },
  {
   "cell_type": "markdown",
   "metadata": {},
   "source": [
    "# The End!"
   ]
  }
 ],
 "metadata": {
  "kernelspec": {
   "display_name": "Python 3",
   "language": "python",
   "name": "python3"
  },
  "language_info": {
   "codemirror_mode": {
    "name": "ipython",
    "version": 3
   },
   "file_extension": ".py",
   "mimetype": "text/x-python",
   "name": "python",
   "nbconvert_exporter": "python",
   "pygments_lexer": "ipython3",
   "version": "3.7.4"
  },
  "varInspector": {
   "cols": {
    "lenName": 16,
    "lenType": 16,
    "lenVar": 40
   },
   "kernels_config": {
    "python": {
     "delete_cmd_postfix": "",
     "delete_cmd_prefix": "del ",
     "library": "var_list.py",
     "varRefreshCmd": "print(var_dic_list())"
    },
    "r": {
     "delete_cmd_postfix": ") ",
     "delete_cmd_prefix": "rm(",
     "library": "var_list.r",
     "varRefreshCmd": "cat(var_dic_list()) "
    }
   },
   "position": {
    "height": "458.4px",
    "left": "1464.2px",
    "right": "20px",
    "top": "132px",
    "width": "350px"
   },
   "types_to_exclude": [
    "module",
    "function",
    "builtin_function_or_method",
    "instance",
    "_Feature"
   ],
   "window_display": true
  }
 },
 "nbformat": 4,
 "nbformat_minor": 2
}

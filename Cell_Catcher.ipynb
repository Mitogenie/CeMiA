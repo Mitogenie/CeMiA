{
 "cells": [
  {
   "cell_type": "markdown",
   "metadata": {},
   "source": [
    "<h1 style=\"text-align:center;\">Cell Catcher <span style=\"text-align:center;font-size: 0.5em;\">0.3.4</span></h1>\n",
    "<h2 style=\"text-align:center;\">CeMiA Toolkit <i style=\"font-size: 0.5em;\">0.6.1</i></h2>\n",
    "<h3 style=\"text-align:center;\">Kashatus Lab @ UVA</h3>"
   ]
  },
  {
   "cell_type": "markdown",
   "metadata": {},
   "source": [
    "# Welcome to Cell Catcher\n",
    "#### Cell Catcher is part of CeMiA toolkit that enables you to separate individual cells from fluorescently labeled multi-cell images.\n",
    "This Jupyter notebook provides you with step-by-step directions to separate individual cells from multi-cell images."
   ]
  },
  {
   "cell_type": "markdown",
   "metadata": {},
   "source": [
    "## 1) Importing necessary libraries\n",
    "Please check the requirements in the Readme file."
   ]
  },
  {
   "cell_type": "markdown",
   "metadata": {},
   "source": [
    "##### Just run the following block of code, you are not expected to enter any data here."
   ]
  },
  {
   "cell_type": "code",
   "execution_count": 57,
   "metadata": {},
   "outputs": [],
   "source": [
    "#Base Libraries\n",
    "import os\n",
    "import matplotlib.pyplot as plt\n",
    "import numpy as np\n",
    "import pandas as pd\n",
    "from matplotlib.gridspec import GridSpec\n",
    "import cv2\n",
    "import shutil\n",
    "\n",
    "\n",
    "#Interaction\n",
    "import ipywidgets as widgets\n",
    "from IPython.display import display\n",
    "from ipywidgets import interact, interactive, fixed, interact_manual, IntSlider, Checkbox, FloatSlider, Dropdown\n",
    "from IPython.display import clear_output\n",
    "\n",
    "#Core Functions\n",
    "import cemia55s as cemia\n",
    "\n",
    "style = {'description_width': 'initial'}\n",
    "layout = widgets.Layout(width='95%')"
   ]
  },
  {
   "cell_type": "markdown",
   "metadata": {},
   "source": [
    "## 2) Locate and Sample Files\n",
    "\n",
    "<br>\n",
    "<details>\n",
    "<summary><span style=\"font-size:16px;font-weight: bold; color:red\">What should I do next? (click here to expand)</span></summary>\n",
    "    \n",
    "#### <span style=\"color:red;\">You should interact with the next cell: </span> Please run the next cell, a box will appear. Enter the relative/absolute address of the folder that contains your images inside the box, then press the enter key. \n",
    "\n",
    "#### <span style=\"color:red;\">Examples: </span>\n",
    "* Relative Address\n",
    "    * Use . if the images are in the same folder as this file\n",
    "    * If your folder of the images (my_folder_of_images) is located in the same directory as this file, you should enter: my_folder_of_images\n",
    "* Absolute Address\n",
    "    *If your images are located on Desktop\n",
    "        * Mac: you should enter: /Users/username/Desktop/my_folder_of_images\n",
    "        * Windows: you should enter: C:\\Users\\username\\Desktop\\my_folder_of_images\n",
    "#### <span style=\"color:red;\">Note: </span>\n",
    "* It is preferred to have the folder of your images in the same folder as the current file that you are running\n",
    "* You should press enter after you enetered the address in the box.\n",
    "</details>"
   ]
  },
  {
   "cell_type": "code",
   "execution_count": 58,
   "metadata": {},
   "outputs": [
    {
     "name": "stdout",
     "output_type": "stream",
     "text": [
      "Where are the files located?\n",
      "\n",
      "test3\n",
      "\n",
      "All set! You may run the next cell.\n"
     ]
    }
   ],
   "source": [
    "address,file_list = cemia.address()"
   ]
  },
  {
   "cell_type": "markdown",
   "metadata": {},
   "source": [
    "### How many files to sample?\n",
    "\n",
    "<br>\n",
    "<details>\n",
    "<summary><span style=\"font-size:16px;font-weight: bold; color:red\">What should I do next? (click here to expand)</span></summary>\n",
    "\n",
    "#### <span style=\"color:red;\">You should interact with the next cell: </span> Please run the next cell, a box will appear. Enter the number of the files you want to sample inside the box, then press the enter key. \n",
    "\n",
    "#### You should enter the maximum number of the sample files that you want to use in the rest of the app. The purpose of these sample images is to help you to tune your parameters.\n",
    "##### Just sample a reasonable number of files.\n",
    "\n",
    "#### <span style=\"color:red;\">Note:</span>\n",
    "* The number of sampled images would be equal or lower than the number your enter here. The maximum indicated number is the total number of the files in that folder, which may or may not be valid images.\n",
    "* Press the enter key after you entered the desired number of files, and proceed to the next cell.\n",
    "\n",
    "#### <span style=\"color:red;\">Interaction required</span>\n",
    "</details>"
   ]
  },
  {
   "cell_type": "code",
   "execution_count": 59,
   "metadata": {
    "scrolled": true
   },
   "outputs": [
    {
     "name": "stdout",
     "output_type": "stream",
     "text": [
      "\n",
      "How many files to sample? (If possible)\n",
      "Please enter a valid integer value below 6\n",
      "6\n"
     ]
    }
   ],
   "source": [
    "how_many = cemia.how_many(file_list)"
   ]
  },
  {
   "cell_type": "markdown",
   "metadata": {},
   "source": [
    "##### Next cell randomly samples some images for parameter tuning purposes.\n",
    "##### Just run the following block of code, you are not expected to enter any data here."
   ]
  },
  {
   "cell_type": "code",
   "execution_count": 60,
   "metadata": {},
   "outputs": [
    {
     "name": "stdout",
     "output_type": "stream",
     "text": [
      "\n",
      "These files were validated and selected:\n",
      "\n",
      " ['MAX_A3 FCCP 1.oib - C=1_RedBrazil.tif', 'YFP0128_12.tif', 'YFP0128_12_transformed.tif', 'MAX_A3 FCCP 1.oib - C=1_RedBrazil_transformed.tif']\n"
     ]
    }
   ],
   "source": [
    "random_files = cemia.random_files(address,file_list,how_many)"
   ]
  },
  {
   "cell_type": "markdown",
   "metadata": {},
   "source": [
    "## 3) Finding and isolating individual cells in the sample images\n",
    "##### Just run the following block of code, you are not expected to enter any data here."
   ]
  },
  {
   "cell_type": "code",
   "execution_count": 61,
   "metadata": {
    "scrolled": false
   },
   "outputs": [],
   "source": [
    "threshold_pro = ['Assisted Automatic (Pro)']\n",
    "abspath = os.path.join(address,'temp')"
   ]
  },
  {
   "cell_type": "markdown",
   "metadata": {},
   "source": [
    "### 3.1) Identifying Nuclei\n",
    "\n",
    "##### The next block of code is designed to identify individual nuclei in the image. While in most cases the default values will perform well, you may find it useful to tune the values of different parameters, and find a combination that works best for your dataset.\n",
    "\n",
    "<br>\n",
    "<details>\n",
    "<summary><span style=\"font-size:16px;font-weight: bold; color:red\">List of parameters that you will adjust in the next cell (click here to expand)</span></summary>\n",
    "\n",
    "#### Nuclei Signal Threshold\n",
    "* By changing the value of this parameter, you change the signal threshold for detecting nuclei in the image. Lower threshold may help you to detect dimmer nuclei in the image. However, in some cases extemely low threshold values may cause problems by capturing the background noise as nuclei. \n",
    "* Select a threshold value that reasonably works for your sample images. You may check sample images by selecting them from the dropdown menu.\n",
    "\n",
    "#### Nuclei Non Uniformity\n",
    "* This option helps you to reach a better nuclei segmentation results over a wider range of images.\n",
    "\n",
    "#### Nuclei Size Threshold\n",
    "* This option helps you to decide on the minimum acceptable nucleus size in your images.\n",
    "\n",
    "#### Correct Nuclei Shape\n",
    "* This feature tries to reconstruct the shape of the poorly illuminated nuclei in the image.\n",
    "* In some cases, this correction may result in nuclei with angular shapes.</p>\n",
    "    * This phenomenon usually does not have an adverse effect on your analysis, since these binary nuclei are merely used as masks on the real nuclei in the image, and their goal is maximal capturing of the nuclei in the image. Ultimately the original shape of the nuclei (from the original image) would be present in the image.\n",
    "\n",
    "#### Low Nuclei Signal\n",
    "* In cases where the signal level in the nuclei channel of your images is low, or your images suffer from low contrast, this option may help you to capture more nuclei in the image.\n",
    "#### <span style=\"color:red;\">Note:</span>\n",
    "<p>Make sure your selected settings work well on all your sample images by selecting different images from the dropdown menu. If they work nicely on sample images, they will do the same on all your images.</p>\n",
    "\n",
    "### <span style=\"color:red;\">Important Note:</span>\n",
    "<p>If you have used Nuc Adder to simulate missing nuclei, we suggest to select \"Low Nuclei Signal\" optiom and use higher values for \"Nuclei Non Uniformity\"(100+).</p>\n",
    "\n",
    "\n",
    "### How to reset to the default values?\n",
    "* Just run the cell again.\n",
    "</details>"
   ]
  },
  {
   "cell_type": "code",
   "execution_count": 62,
   "metadata": {
    "scrolled": false
   },
   "outputs": [
    {
     "data": {
      "application/vnd.jupyter.widget-view+json": {
       "model_id": "f8dac34f160240a198daad92bfb23f13",
       "version_major": 2,
       "version_minor": 0
      },
      "text/plain": [
       "interactive(children=(Dropdown(description='Select a File', layout=Layout(width='95%'), options=('MAX_A3 FCCP …"
      ]
     },
     "metadata": {},
     "output_type": "display_data"
    },
    {
     "name": "stdout",
     "output_type": "stream",
     "text": [
      "You can now go to next step!\n"
     ]
    }
   ],
   "source": [
    "nuc_mask = []\n",
    "\n",
    "#List of Parameters\n",
    "params = cemia.catcher_initial_params\n",
    "\n",
    "@interact(file=Dropdown(options=random_files, description='Select a File',style=style, layout=layout),\n",
    "          Intensity_Threshold=IntSlider(min=0,max=100,step=1,value=10,continuous_update=False, description='Nuclei Signal Threshold', style=style,layout=layout),\n",
    "          NonUniformity=IntSlider(min=1,max=200,step=2,value=25,continuous_update=False, description='Nuclei Non Uniformity', style=style,layout=layout),\n",
    "          Size_Threshold=IntSlider(min=100,max=5000,step=100,value=1000,continuous_update=False,description='Nuclei Size Threshold',layout=layout,style=style),\n",
    "          correct=Checkbox(value=True,description='Correct Nuclei Shape',layout = layout, style=style),\n",
    "          diffuse=Checkbox(value=False,description='Low Nuclei Signal Level',layout = layout, style=style))\n",
    "\n",
    "def segment_nucleus(file,Intensity_Threshold,NonUniformity, Size_Threshold, correct, diffuse):\n",
    "\n",
    "    fullpath_input = os.path.join(address, file)\n",
    "    abspath = os.path.join(address, 'cell_catcher')\n",
    "    \n",
    "    print(fullpath_input)\n",
    "    print(abspath)\n",
    "    namestring = file[:file.rfind('.')] + '.tif'\n",
    "    \n",
    "    #Update parameters, based on user interaction\n",
    "    params['Intensity_threshold'].append(Intensity_Threshold)\n",
    "    params['Size_threshold'].append(Size_Threshold)\n",
    "    params['diffused_bg'].append(diffuse)\n",
    "    params['nuc_correction'].append(correct)\n",
    "    params['non_uniformity'].append(NonUniformity)\n",
    "\n",
    "    try:        \n",
    "        mask = cemia.nucleus_filtering(fullpath_input, abspath, Intensity_Threshold, Size_Threshold,True,NonUniformity,correct, diffused=diffuse)\n",
    "        nuc_mask.append(mask)\n",
    "    except:\n",
    "        print('Something is not right! Try another image.')\n",
    "        pass\n",
    "\n",
    "print('You can now go to next step!')\n"
   ]
  },
  {
   "attachments": {},
   "cell_type": "markdown",
   "metadata": {},
   "source": [
    "### 3.2) Identifying Mitochondria\n",
    "\n",
    "##### The next block of code is designed to identify and separate individual cells in the image. While in most cases the default values will perform well, you may may find it useful to tune the values of different parameters, and find a combination that works best for your dataset.\n",
    "\n",
    "<br>\n",
    "<details>\n",
    "<summary><span style=\"font-size:16px;font-weight: bold; color:red\">List of parameters that you will adjust in the next cell (click to expand)</span></summary>\n",
    "\n",
    "#### Mitochondrial Signal Threshold\n",
    "\n",
    "* This slider sets the intensity threshold for mitochondria. Lower threshold results in capturing more possible mitochondria in the image. Check additional info about this slider and its effects in the \"Global Mitochondrial Mask\" part of the 'Important Notes' section.\n",
    "\n",
    "#### Mitochondrial Search Radius For Ghost Cells\n",
    "\n",
    "* This slider sets the radial distance around the nuclei to search for mitochondria. This tool is used to identify the ghost cells in the image\n",
    "    * The ghost cells are the cells where their nucleus is stained but mitochondrial staining is missing.\n",
    "\n",
    "#### Maximum Mitochondrial Content For Ghost Cells\n",
    "\n",
    "* This slider sets the minimum acceptable amount of mitochondrial content around a cell (within the radius set above). The cells with mitochondrial content below this threshold will be marked as ghost cells.\n",
    "\n",
    "#### Remove The Ghost Cells\n",
    "* By selecting this option, you remove the nuclei of the cells marked as ghost cells from the image.\n",
    "\n",
    "#### Low Mitochondrial Signal\n",
    "* You may select this option if the signal level, or the contrast (Signal to Noise Ratio (SNR) in the mitochondrial channel of your images is low.\n",
    "    * Based on the image condition this option may have additional applications. Please refer to the \"Important Notes\" section. \n",
    "\n",
    "#### My Cells Are Reasonably Separated\n",
    "* If your cells are sparsely distributed across your images, you can use this option along with \"Low Mitochondrial Signal\" option to speed up your cell separation up to 10X. Please refer to the \"Important Notes\" section.\n",
    "\n",
    "#### Separate Cells\n",
    "* This box should be checked in order to separate the individual cells in the image.\n",
    "   * Please refer to the additional notes below to find the best time to check this box.\n",
    "\n",
    "</details>\n",
    "\n",
    "<br>\n",
    "<details>\n",
    "<summary><span style=\"font-size:16px;font-weight: bold; color:red\">Important Notes (click to expand)</span></summary>\n",
    "\n",
    "\n",
    "### What does the \"Global Mitochondrial Mask\" figure tell you?\n",
    "\n",
    "#### The image titled \"Global Mitochondrial Mask\" serves an important purpose, and can be extremely useful if used and interpreted properly.\n",
    "\n",
    "This figure represents the global mitochondrial content mask for the image, and is not intended to reflect the final and detailed mitochondrial mapping or network in your cells (That's Mito Miner's job). The yellow objects on the image reflect all the objects on the image that are assessed as the probable mitochondrial content in the image, and would be assigned to different nuclei. This may also include some background noise, which is okay, since Mito Miner will take care of it.\n",
    "\n",
    "Lowering the \"Mitochondrial Signal Threshold\" would result in increase in the number and the area of the yellow objects in the image. This means that you have more mitochondrial candidate objects, which may increase the chance of capturing of true mitochondria in each image.\n",
    "\n",
    "* This is true as long as the yellow objects across the image do not overlap and/or you are not capturing too much noise as mitochondria (i.e. parts of the image that you are sure that are noise and not real mitochondria)\n",
    "\n",
    "* More yellow content in the image means more assignment tasks, which in turn may increase the processing time.\n",
    "  \n",
    "* Important: check a few images (using the drop down menu above) before you decide on your final threshold value, and make sure the set of parameters reasonably represents the mitochondrial content in all of those images, since the same threshold will be applied to the batch of images you are analyzing together.\n",
    "\n",
    "* There is an exception which is discussed in the \"My Cells Are Entangled\" part.\n",
    "\n",
    "### When to use \"Low Mitochondrial Signal\"\n",
    "\n",
    "* The most obvious situation is when you have low signal or low contrast images. Low signal levels, and low Signal to Noise Ratio (SNR), make it harder for Cell Catcher to detect mitochondria in the image and subsequently assign them to different cells. By selecting this option Cell Catcher will perform additional pre-processing on the images in attempt to capture more mitochondria.\n",
    "\n",
    "* If you select this option in high signal/SNR images, it will result in forming of yellow clusters in the  \"Global Mitochondrial Mask\" figure, which is totally fine if the following two conditions are met:\n",
    "    * As a result of selecting this option you are not capturing excessive amounts of noise as mitochondrial candidates in the image (Similar to lowering the \"Mitochondrial Signal Threshold\").\n",
    "    * The yellow blobs formed around cells, or in general the yellow objects across the image are not overlapping or excessively touching each other.\n",
    "    * In both cases this option may increase the processing time since Cell Catcher should assign more content to various cells*.\n",
    "\n",
    "*There is an exception which is discussed in the \"My Cells Are Entangled\" part.\n",
    "\n",
    "### When to use \"My Cells Are Entangled\"\n",
    "\n",
    "If your cells have mitochondrial networks that are entangled, and it is very hard to decide on the boundaries of the adjacent cells, you may use this option. However, this option may increase the processing time up to 10X.\n",
    "\n",
    "* When you have cells with entangled mitochondrial networks, if you select \"Low Mitochondrial Signal\" and/or you drastically lower the \"Mitochondrial Signal Threshold” value, your actions may result in overlap or excessive touching of the mitochondrial networks from adjacent cells that may make the processing and separation of cells harder.\n",
    "\n",
    "##### Before selecting this option, you should make sure that this approach is appropriate for all the majority of the images in your batch.\n",
    "\n",
    "### When to check the \"Separate cells\" box?\n",
    "\n",
    "* While you are deciding on the best set of parameters for your sample images (which can individually be selected from the dropdown menu at the top), we suggest to keep the \"Separate Cells\" unchecked. Once you are happy with the combination of your parameters, then select this box to isolate individual cells in your desired images. \n",
    "\n",
    "* Every time you select a new cell, while the segment cell is checked, it will automatically start to segment the cells in the image, which may take some time. Once segmentation is done, the segmented cells will show up.\n",
    "\n",
    "### How to reset to the default values?\n",
    "\n",
    "* Just run the cell again. In other words, every time you re-run a cell with sliders and checkboxes, the values will reset to their default values.\n",
    "\n",
    "</details>"
   ]
  },
  {
   "cell_type": "code",
   "execution_count": 13,
   "metadata": {
    "scrolled": false
   },
   "outputs": [
    {
     "data": {
      "application/vnd.jupyter.widget-view+json": {
       "model_id": "3fa8222bdfe84259965178d4884918e9",
       "version_major": 2,
       "version_minor": 0
      },
      "text/plain": [
       "interactive(children=(Dropdown(description='Select a File', layout=Layout(width='95%'), options=('MAX_A3 FCCP …"
      ]
     },
     "metadata": {},
     "output_type": "display_data"
    }
   ],
   "source": [
    "@interact(file=Dropdown(options=random_files, description='Select a File',style=style, layout=layout),\n",
    "          Threshold=IntSlider(min=5,max=100,step=1,value=65,continuous_update=False,description='Mitochondrial Signal Threshold',layout=layout, style=style),\n",
    "          dilation=IntSlider(min=20,max=100,step=5,value=35,continuous_update=False,description='Mitochondrial Search Radius For Ghost Cells',layout=layout, style=style),\n",
    "          empty_cell_threshold=IntSlider(min=0,max=250000,step=1000,value=0,continuous_update=False,description='Maximum Mitochondrial Content For Ghost Cells',layout=layout, style=style),\n",
    "          correct=Checkbox(value=False,description='Remove The Ghost Cells',style=style, layout=layout),\n",
    "          low_mito=Checkbox(value=False,description='Low Mitochondrial Signal (Read the notes in the previous cell to properly use this option)',style=style, layout=layout),\n",
    "          entangled=Checkbox(value=False,description='My Cells Are Entangled (Read the notes in the previous cell to properly use this option)',style=style, layout=layout),\n",
    "          separate=Checkbox(value=False,description='Separate Cells (This May take a while, read the notes in the previous cell before selecting it.)',style=style, layout=layout))\n",
    "\n",
    "def segment_cell(file,Threshold, dilation,empty_cell_threshold, correct, low_mito,entangled,separate):\n",
    "\n",
    "    fullpath_input = os.path.join(address, file)\n",
    "    abspath = os.path.join(address, 'cell_catcher_temp')\n",
    "    \n",
    "    namestring = file[:file.rfind('.')] + '.tif'\n",
    "    \n",
    "    #Updating parameters based on user interaction\n",
    "    params['mito_threshold'].append(Threshold)\n",
    "    params['empty_cell_thresh'].append(empty_cell_threshold)\n",
    "    params['mito_low'].append(low_mito)\n",
    "    params['sparse'].append(entangled)\n",
    "    params['correct_cells'].append(correct)\n",
    "\n",
    "    try:\n",
    "        mask_blue=cemia.auto_segmentation(fullpath_input, abspath, namestring,Threshold,separate,dilation, correct, params['Intensity_threshold'][-1], params['Size_threshold'][-1],params['empty_cell_thresh'][-1], hide=False,nuc_correct=False,diffused=params['diffused_bg'][-1], mito_diffused=params['mito_low'][-1],entangled=params['sparse'][-1], non_uniformity=params['non_uniformity'][-1])\n",
    "    except:\n",
    "        print('{} is not a valid image file, try another file.'.format(file))\n",
    "        pass"
   ]
  },
  {
   "cell_type": "code",
   "execution_count": null,
   "metadata": {
    "scrolled": true
   },
   "outputs": [],
   "source": [
    "print('The following settings will be used to analyze all the images!')\n",
    "print('**************************************************************')\n",
    "params_pd = {}\n",
    "for k in params:\n",
    "    try:\n",
    "        params_pd[k] = params[k][-1]\n",
    "        print(f'{k}: {params_pd[k]}')\n",
    "    except:\n",
    "        pass\n",
    "    \n",
    "params_pd = pd.DataFrame(params_pd, index=[0])\n",
    "params_pd.to_csv(os.path.join(address ,'cell_catcher_params.csv'), index=False)\n"
   ]
  },
  {
   "cell_type": "markdown",
   "metadata": {},
   "source": [
    "## 4) Processing all the cells\n",
    "##### Just run next block of code, and then go and enjoy your time. Running this block of code may take few hours depending on the number of images that you have."
   ]
  },
  {
   "cell_type": "code",
   "execution_count": null,
   "metadata": {
    "scrolled": false
   },
   "outputs": [],
   "source": [
    "try:\n",
    "    os.makedirs(os.path.join(address, 'output'))\n",
    "except FileExistsError:\n",
    "    pass\n",
    "\n",
    "cell_list = os.listdir(address)\n",
    "\n",
    "for file in file_list:\n",
    "\n",
    "    fullpath_input = os.path.join(address, file)\n",
    "    abspath = os.path.join(address, 'output')\n",
    "    namestring = file[:file.rfind('.')] + '.tif'\n",
    "    print(file)\n",
    "\n",
    "    try:\n",
    "        cemia.auto_segmentation(fullpath_input, abspath, namestring,params['mito_threshold'][-1],True,params['neighorhood'][-1], params['correct_cells'][-1], params['Intensity_threshold'][-1], params['Size_threshold'][-1], params['empty_cell_thresh'][-1], hide=True, nuc_correct=False, diffused=params['diffused_bg'][-1],mito_diffused=params['mito_low'][-1],entangled=params['sparse'][-1], non_uniformity=params['non_uniformity'][-1])\n",
    "        cemia.single_cell_QC(abspath, hide=True)\n",
    "    except:\n",
    "        print('{} is not a valid image file, trying the next file.\\n'.format(file))\n",
    "        pass\n",
    "\n",
    "\n",
    "print('You are all set!\\n')"
   ]
  },
  {
   "cell_type": "markdown",
   "metadata": {},
   "source": [
    "## Optional Step: Remove Cell Catcher Temp folders\n",
    "#### If you want to delete the temporary folders created by Cell Catcher, please run the following cell. This is the folder that contains the cells that you isolated when you were experimenting with Cell Catcher."
   ]
  },
  {
   "cell_type": "code",
   "execution_count": null,
   "metadata": {},
   "outputs": [],
   "source": [
    "try:\n",
    "    shutil.rmtree(os.path.join(address,'cell_catcher_temp'))\n",
    "except:\n",
    "    pass"
   ]
  },
  {
   "cell_type": "markdown",
   "metadata": {},
   "source": [
    "# The End!"
   ]
  }
 ],
 "metadata": {
  "kernelspec": {
   "display_name": "Python 3",
   "language": "python",
   "name": "python3"
  },
  "language_info": {
   "codemirror_mode": {
    "name": "ipython",
    "version": 3
   },
   "file_extension": ".py",
   "mimetype": "text/x-python",
   "name": "python",
   "nbconvert_exporter": "python",
   "pygments_lexer": "ipython3",
   "version": "3.7.4"
  },
  "varInspector": {
   "cols": {
    "lenName": 16,
    "lenType": 16,
    "lenVar": 40
   },
   "kernels_config": {
    "python": {
     "delete_cmd_postfix": "",
     "delete_cmd_prefix": "del ",
     "library": "var_list.py",
     "varRefreshCmd": "print(var_dic_list())"
    },
    "r": {
     "delete_cmd_postfix": ") ",
     "delete_cmd_prefix": "rm(",
     "library": "var_list.r",
     "varRefreshCmd": "cat(var_dic_list()) "
    }
   },
   "position": {
    "height": "458.4px",
    "left": "1464.2px",
    "right": "20px",
    "top": "132px",
    "width": "350px"
   },
   "types_to_exclude": [
    "module",
    "function",
    "builtin_function_or_method",
    "instance",
    "_Feature"
   ],
   "window_display": true
  }
 },
 "nbformat": 4,
 "nbformat_minor": 2
}
